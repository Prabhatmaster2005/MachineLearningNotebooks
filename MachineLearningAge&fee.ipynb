{
 "cells": [
  {
   "cell_type": "code",
   "execution_count": 1,
   "metadata": {
    "ExecuteTime": {
     "end_time": "2020-07-24T16:34:11.601960Z",
     "start_time": "2020-07-24T16:33:28.299667Z"
    }
   },
   "outputs": [],
   "source": [
    "import numpy as np\n",
    "import pandas as pd\n",
    "from sklearn.linear_model import LinearRegression\n",
    "from sklearn.model_selection import train_test_split"
   ]
  },
  {
   "cell_type": "code",
   "execution_count": 17,
   "metadata": {
    "ExecuteTime": {
     "end_time": "2020-07-24T16:40:20.585634Z",
     "start_time": "2020-07-24T16:40:13.549636Z"
    }
   },
   "outputs": [
    {
     "data": {
      "text/html": [
       "<div>\n",
       "<style scoped>\n",
       "    .dataframe tbody tr th:only-of-type {\n",
       "        vertical-align: middle;\n",
       "    }\n",
       "\n",
       "    .dataframe tbody tr th {\n",
       "        vertical-align: top;\n",
       "    }\n",
       "\n",
       "    .dataframe thead th {\n",
       "        text-align: right;\n",
       "    }\n",
       "</style>\n",
       "<table border=\"1\" class=\"dataframe\">\n",
       "  <thead>\n",
       "    <tr style=\"text-align: right;\">\n",
       "      <th></th>\n",
       "      <th>age</th>\n",
       "      <th>fee</th>\n",
       "    </tr>\n",
       "  </thead>\n",
       "  <tbody>\n",
       "    <tr>\n",
       "      <th>0</th>\n",
       "      <td>17.0</td>\n",
       "      <td>1.71</td>\n",
       "    </tr>\n",
       "    <tr>\n",
       "      <th>1</th>\n",
       "      <td>18.0</td>\n",
       "      <td>9.90</td>\n",
       "    </tr>\n",
       "    <tr>\n",
       "      <th>2</th>\n",
       "      <td>18.0</td>\n",
       "      <td>27.00</td>\n",
       "    </tr>\n",
       "    <tr>\n",
       "      <th>3</th>\n",
       "      <td>18.0</td>\n",
       "      <td>6.03</td>\n",
       "    </tr>\n",
       "    <tr>\n",
       "      <th>4</th>\n",
       "      <td>18.0</td>\n",
       "      <td>2.70</td>\n",
       "    </tr>\n",
       "    <tr>\n",
       "      <th>5</th>\n",
       "      <td>18.0</td>\n",
       "      <td>2.25</td>\n",
       "    </tr>\n",
       "    <tr>\n",
       "      <th>6</th>\n",
       "      <td>19.0</td>\n",
       "      <td>10.80</td>\n",
       "    </tr>\n",
       "    <tr>\n",
       "      <th>7</th>\n",
       "      <td>19.0</td>\n",
       "      <td>24.30</td>\n",
       "    </tr>\n",
       "    <tr>\n",
       "      <th>8</th>\n",
       "      <td>19.0</td>\n",
       "      <td>16.47</td>\n",
       "    </tr>\n",
       "    <tr>\n",
       "      <th>9</th>\n",
       "      <td>19.0</td>\n",
       "      <td>24.75</td>\n",
       "    </tr>\n",
       "  </tbody>\n",
       "</table>\n",
       "</div>"
      ],
      "text/plain": [
       "    age    fee\n",
       "0  17.0   1.71\n",
       "1  18.0   9.90\n",
       "2  18.0  27.00\n",
       "3  18.0   6.03\n",
       "4  18.0   2.70\n",
       "5  18.0   2.25\n",
       "6  19.0  10.80\n",
       "7  19.0  24.30\n",
       "8  19.0  16.47\n",
       "9  19.0  24.75"
      ]
     },
     "execution_count": 17,
     "metadata": {},
     "output_type": "execute_result"
    }
   ],
   "source": [
    "df = pd.read_excel(\"Agefee.xlsx\")\n",
    "df.head(10)"
   ]
  },
  {
   "cell_type": "code",
   "execution_count": 18,
   "metadata": {
    "ExecuteTime": {
     "end_time": "2020-07-24T16:40:20.807636Z",
     "start_time": "2020-07-24T16:40:20.591635Z"
    }
   },
   "outputs": [
    {
     "name": "stdout",
     "output_type": "stream",
     "text": [
      "      age    fee\n",
      "0    17.0   1.71\n",
      "1    18.0   9.90\n",
      "2    18.0  27.00\n",
      "3    18.0   6.03\n",
      "4    18.0   2.70\n",
      "..    ...    ...\n",
      "129  32.0   7.83\n",
      "130  32.0   7.83\n",
      "131  33.0   4.50\n",
      "132  33.0   7.92\n",
      "133  33.0   7.92\n",
      "\n",
      "[134 rows x 2 columns]\n"
     ]
    },
    {
     "data": {
      "text/html": [
       "<div>\n",
       "<style scoped>\n",
       "    .dataframe tbody tr th:only-of-type {\n",
       "        vertical-align: middle;\n",
       "    }\n",
       "\n",
       "    .dataframe tbody tr th {\n",
       "        vertical-align: top;\n",
       "    }\n",
       "\n",
       "    .dataframe thead th {\n",
       "        text-align: right;\n",
       "    }\n",
       "</style>\n",
       "<table border=\"1\" class=\"dataframe\">\n",
       "  <thead>\n",
       "    <tr style=\"text-align: right;\">\n",
       "      <th></th>\n",
       "      <th>age</th>\n",
       "      <th>fee</th>\n",
       "    </tr>\n",
       "  </thead>\n",
       "  <tbody>\n",
       "    <tr>\n",
       "      <th>0</th>\n",
       "      <td>17</td>\n",
       "      <td>1</td>\n",
       "    </tr>\n",
       "    <tr>\n",
       "      <th>1</th>\n",
       "      <td>18</td>\n",
       "      <td>9</td>\n",
       "    </tr>\n",
       "    <tr>\n",
       "      <th>2</th>\n",
       "      <td>18</td>\n",
       "      <td>27</td>\n",
       "    </tr>\n",
       "    <tr>\n",
       "      <th>3</th>\n",
       "      <td>18</td>\n",
       "      <td>6</td>\n",
       "    </tr>\n",
       "    <tr>\n",
       "      <th>4</th>\n",
       "      <td>18</td>\n",
       "      <td>2</td>\n",
       "    </tr>\n",
       "    <tr>\n",
       "      <th>...</th>\n",
       "      <td>...</td>\n",
       "      <td>...</td>\n",
       "    </tr>\n",
       "    <tr>\n",
       "      <th>129</th>\n",
       "      <td>32</td>\n",
       "      <td>7</td>\n",
       "    </tr>\n",
       "    <tr>\n",
       "      <th>130</th>\n",
       "      <td>32</td>\n",
       "      <td>7</td>\n",
       "    </tr>\n",
       "    <tr>\n",
       "      <th>131</th>\n",
       "      <td>33</td>\n",
       "      <td>4</td>\n",
       "    </tr>\n",
       "    <tr>\n",
       "      <th>132</th>\n",
       "      <td>33</td>\n",
       "      <td>7</td>\n",
       "    </tr>\n",
       "    <tr>\n",
       "      <th>133</th>\n",
       "      <td>33</td>\n",
       "      <td>7</td>\n",
       "    </tr>\n",
       "  </tbody>\n",
       "</table>\n",
       "<p>134 rows × 2 columns</p>\n",
       "</div>"
      ],
      "text/plain": [
       "     age  fee\n",
       "0     17    1\n",
       "1     18    9\n",
       "2     18   27\n",
       "3     18    6\n",
       "4     18    2\n",
       "..   ...  ...\n",
       "129   32    7\n",
       "130   32    7\n",
       "131   33    4\n",
       "132   33    7\n",
       "133   33    7\n",
       "\n",
       "[134 rows x 2 columns]"
      ]
     },
     "execution_count": 18,
     "metadata": {},
     "output_type": "execute_result"
    }
   ],
   "source": [
    "df = df.dropna()\n",
    "print(df)\n",
    "df.astype(int)"
   ]
  },
  {
   "cell_type": "code",
   "execution_count": 4,
   "metadata": {
    "ExecuteTime": {
     "end_time": "2020-07-24T16:34:22.814692Z",
     "start_time": "2020-07-24T16:34:22.801664Z"
    }
   },
   "outputs": [],
   "source": [
    "x = df.iloc[:, :-1]\n",
    "y = df.iloc[:, 1]"
   ]
  },
  {
   "cell_type": "code",
   "execution_count": 5,
   "metadata": {
    "ExecuteTime": {
     "end_time": "2020-07-24T16:34:22.938906Z",
     "start_time": "2020-07-24T16:34:22.817665Z"
    }
   },
   "outputs": [],
   "source": [
    "x_train, x_test, y_train, y_test = train_test_split(x, y, test_size = 0.3, random_state = 0)"
   ]
  },
  {
   "cell_type": "code",
   "execution_count": 6,
   "metadata": {
    "ExecuteTime": {
     "end_time": "2020-07-24T16:34:22.984908Z",
     "start_time": "2020-07-24T16:34:22.958918Z"
    }
   },
   "outputs": [
    {
     "name": "stdout",
     "output_type": "stream",
     "text": [
      "      age\n",
      "95   26.0\n",
      "68   24.0\n",
      "26   21.0\n",
      "8    19.0\n",
      "100  27.0\n",
      "43   22.0\n",
      "63   23.0\n",
      "48   23.0\n",
      "45   22.0\n",
      "113  29.0\n",
      "52   23.0\n",
      "124  30.0\n",
      "112  28.0\n",
      "50   23.0\n",
      "22   21.0\n",
      "93   26.0\n",
      "97   26.0\n",
      "90   25.0\n",
      "7    19.0\n",
      "24   21.0\n",
      "44   22.0\n",
      "10   20.0\n",
      "111  28.0\n",
      "60   23.0\n",
      "16   21.0\n",
      "2    18.0\n",
      "130  32.0\n",
      "59   23.0\n",
      "73   24.0\n",
      "33   22.0\n",
      "30   22.0\n",
      "106  28.0\n",
      "105  27.0\n",
      "131  33.0\n",
      "83   25.0\n",
      "128  31.0\n",
      "13   20.0\n",
      "66   23.0\n",
      "85   25.0\n",
      "62   23.0\n",
      "51   23.0\n"
     ]
    }
   ],
   "source": [
    "print(x_test)"
   ]
  },
  {
   "cell_type": "code",
   "execution_count": 7,
   "metadata": {
    "ExecuteTime": {
     "end_time": "2020-07-24T16:34:31.603833Z",
     "start_time": "2020-07-24T16:34:22.991907Z"
    }
   },
   "outputs": [
    {
     "data": {
      "text/plain": [
       "LinearRegression()"
      ]
     },
     "execution_count": 7,
     "metadata": {},
     "output_type": "execute_result"
    }
   ],
   "source": [
    "simplelinearRegression = LinearRegression()\n",
    "simplelinearRegression.fit(x_train, y_train)"
   ]
  },
  {
   "cell_type": "code",
   "execution_count": 8,
   "metadata": {
    "ExecuteTime": {
     "end_time": "2020-07-24T16:34:31.618835Z",
     "start_time": "2020-07-24T16:34:31.609839Z"
    }
   },
   "outputs": [],
   "source": [
    "y_predict = simplelinearRegression.predict(x_test)"
   ]
  },
  {
   "cell_type": "code",
   "execution_count": 9,
   "metadata": {
    "ExecuteTime": {
     "end_time": "2020-07-24T16:34:31.650837Z",
     "start_time": "2020-07-24T16:34:31.627840Z"
    }
   },
   "outputs": [],
   "source": [
    "predict = pd.DataFrame(y_predict)"
   ]
  },
  {
   "cell_type": "code",
   "execution_count": 10,
   "metadata": {
    "ExecuteTime": {
     "end_time": "2020-07-24T16:34:31.792837Z",
     "start_time": "2020-07-24T16:34:31.654840Z"
    }
   },
   "outputs": [
    {
     "data": {
      "text/html": [
       "<div>\n",
       "<style scoped>\n",
       "    .dataframe tbody tr th:only-of-type {\n",
       "        vertical-align: middle;\n",
       "    }\n",
       "\n",
       "    .dataframe tbody tr th {\n",
       "        vertical-align: top;\n",
       "    }\n",
       "\n",
       "    .dataframe thead th {\n",
       "        text-align: right;\n",
       "    }\n",
       "</style>\n",
       "<table border=\"1\" class=\"dataframe\">\n",
       "  <thead>\n",
       "    <tr style=\"text-align: right;\">\n",
       "      <th></th>\n",
       "      <th>0</th>\n",
       "    </tr>\n",
       "  </thead>\n",
       "  <tbody>\n",
       "    <tr>\n",
       "      <th>0</th>\n",
       "      <td>16.0</td>\n",
       "    </tr>\n",
       "    <tr>\n",
       "      <th>1</th>\n",
       "      <td>17.0</td>\n",
       "    </tr>\n",
       "    <tr>\n",
       "      <th>2</th>\n",
       "      <td>17.0</td>\n",
       "    </tr>\n",
       "    <tr>\n",
       "      <th>3</th>\n",
       "      <td>17.0</td>\n",
       "    </tr>\n",
       "    <tr>\n",
       "      <th>4</th>\n",
       "      <td>16.0</td>\n",
       "    </tr>\n",
       "    <tr>\n",
       "      <th>5</th>\n",
       "      <td>17.0</td>\n",
       "    </tr>\n",
       "    <tr>\n",
       "      <th>6</th>\n",
       "      <td>17.0</td>\n",
       "    </tr>\n",
       "    <tr>\n",
       "      <th>7</th>\n",
       "      <td>17.0</td>\n",
       "    </tr>\n",
       "    <tr>\n",
       "      <th>8</th>\n",
       "      <td>17.0</td>\n",
       "    </tr>\n",
       "    <tr>\n",
       "      <th>9</th>\n",
       "      <td>16.0</td>\n",
       "    </tr>\n",
       "    <tr>\n",
       "      <th>10</th>\n",
       "      <td>17.0</td>\n",
       "    </tr>\n",
       "    <tr>\n",
       "      <th>11</th>\n",
       "      <td>16.0</td>\n",
       "    </tr>\n",
       "    <tr>\n",
       "      <th>12</th>\n",
       "      <td>16.0</td>\n",
       "    </tr>\n",
       "    <tr>\n",
       "      <th>13</th>\n",
       "      <td>17.0</td>\n",
       "    </tr>\n",
       "    <tr>\n",
       "      <th>14</th>\n",
       "      <td>17.0</td>\n",
       "    </tr>\n",
       "    <tr>\n",
       "      <th>15</th>\n",
       "      <td>16.0</td>\n",
       "    </tr>\n",
       "    <tr>\n",
       "      <th>16</th>\n",
       "      <td>16.0</td>\n",
       "    </tr>\n",
       "    <tr>\n",
       "      <th>17</th>\n",
       "      <td>17.0</td>\n",
       "    </tr>\n",
       "    <tr>\n",
       "      <th>18</th>\n",
       "      <td>17.0</td>\n",
       "    </tr>\n",
       "    <tr>\n",
       "      <th>19</th>\n",
       "      <td>17.0</td>\n",
       "    </tr>\n",
       "    <tr>\n",
       "      <th>20</th>\n",
       "      <td>17.0</td>\n",
       "    </tr>\n",
       "    <tr>\n",
       "      <th>21</th>\n",
       "      <td>17.0</td>\n",
       "    </tr>\n",
       "    <tr>\n",
       "      <th>22</th>\n",
       "      <td>16.0</td>\n",
       "    </tr>\n",
       "    <tr>\n",
       "      <th>23</th>\n",
       "      <td>17.0</td>\n",
       "    </tr>\n",
       "    <tr>\n",
       "      <th>24</th>\n",
       "      <td>17.0</td>\n",
       "    </tr>\n",
       "    <tr>\n",
       "      <th>25</th>\n",
       "      <td>17.0</td>\n",
       "    </tr>\n",
       "    <tr>\n",
       "      <th>26</th>\n",
       "      <td>16.0</td>\n",
       "    </tr>\n",
       "    <tr>\n",
       "      <th>27</th>\n",
       "      <td>17.0</td>\n",
       "    </tr>\n",
       "    <tr>\n",
       "      <th>28</th>\n",
       "      <td>17.0</td>\n",
       "    </tr>\n",
       "    <tr>\n",
       "      <th>29</th>\n",
       "      <td>17.0</td>\n",
       "    </tr>\n",
       "    <tr>\n",
       "      <th>30</th>\n",
       "      <td>17.0</td>\n",
       "    </tr>\n",
       "    <tr>\n",
       "      <th>31</th>\n",
       "      <td>16.0</td>\n",
       "    </tr>\n",
       "    <tr>\n",
       "      <th>32</th>\n",
       "      <td>16.0</td>\n",
       "    </tr>\n",
       "    <tr>\n",
       "      <th>33</th>\n",
       "      <td>16.0</td>\n",
       "    </tr>\n",
       "    <tr>\n",
       "      <th>34</th>\n",
       "      <td>17.0</td>\n",
       "    </tr>\n",
       "    <tr>\n",
       "      <th>35</th>\n",
       "      <td>16.0</td>\n",
       "    </tr>\n",
       "    <tr>\n",
       "      <th>36</th>\n",
       "      <td>17.0</td>\n",
       "    </tr>\n",
       "    <tr>\n",
       "      <th>37</th>\n",
       "      <td>17.0</td>\n",
       "    </tr>\n",
       "    <tr>\n",
       "      <th>38</th>\n",
       "      <td>17.0</td>\n",
       "    </tr>\n",
       "    <tr>\n",
       "      <th>39</th>\n",
       "      <td>17.0</td>\n",
       "    </tr>\n",
       "    <tr>\n",
       "      <th>40</th>\n",
       "      <td>17.0</td>\n",
       "    </tr>\n",
       "  </tbody>\n",
       "</table>\n",
       "</div>"
      ],
      "text/plain": [
       "       0\n",
       "0   16.0\n",
       "1   17.0\n",
       "2   17.0\n",
       "3   17.0\n",
       "4   16.0\n",
       "5   17.0\n",
       "6   17.0\n",
       "7   17.0\n",
       "8   17.0\n",
       "9   16.0\n",
       "10  17.0\n",
       "11  16.0\n",
       "12  16.0\n",
       "13  17.0\n",
       "14  17.0\n",
       "15  16.0\n",
       "16  16.0\n",
       "17  17.0\n",
       "18  17.0\n",
       "19  17.0\n",
       "20  17.0\n",
       "21  17.0\n",
       "22  16.0\n",
       "23  17.0\n",
       "24  17.0\n",
       "25  17.0\n",
       "26  16.0\n",
       "27  17.0\n",
       "28  17.0\n",
       "29  17.0\n",
       "30  17.0\n",
       "31  16.0\n",
       "32  16.0\n",
       "33  16.0\n",
       "34  17.0\n",
       "35  16.0\n",
       "36  17.0\n",
       "37  17.0\n",
       "38  17.0\n",
       "39  17.0\n",
       "40  17.0"
      ]
     },
     "execution_count": 10,
     "metadata": {},
     "output_type": "execute_result"
    }
   ],
   "source": [
    "predict.apply(np.round)"
   ]
  },
  {
   "cell_type": "code",
   "execution_count": 15,
   "metadata": {
    "ExecuteTime": {
     "end_time": "2020-07-24T16:39:20.371411Z",
     "start_time": "2020-07-24T16:39:20.338410Z"
    }
   },
   "outputs": [
    {
     "name": "stdout",
     "output_type": "stream",
     "text": [
      "Predicted salary(in Millions) 1 ==> 19\n",
      "Predicted salary(in Millions) 2 ==> 19\n",
      "Predicted salary(in Millions) 3 ==> 19\n",
      "Predicted salary(in Millions) 4 ==> 19\n",
      "Predicted salary(in Millions) 5 ==> 19\n",
      "Predicted salary(in Millions) 6 ==> 19\n",
      "Predicted salary(in Millions) 7 ==> 18\n",
      "Predicted salary(in Millions) 8 ==> 18\n",
      "Predicted salary(in Millions) 9 ==> 18\n",
      "Predicted salary(in Millions) 10 ==> 18\n",
      "Predicted salary(in Millions) 11 ==> 18\n",
      "Predicted salary(in Millions) 12 ==> 18\n",
      "Predicted salary(in Millions) 13 ==> 18\n",
      "Predicted salary(in Millions) 14 ==> 17\n",
      "Predicted salary(in Millions) 15 ==> 17\n",
      "Predicted salary(in Millions) 16 ==> 17\n",
      "Predicted salary(in Millions) 17 ==> 17\n",
      "Predicted salary(in Millions) 18 ==> 17\n",
      "Predicted salary(in Millions) 19 ==> 17\n",
      "Predicted salary(in Millions) 20 ==> 17\n",
      "Predicted salary(in Millions) 21 ==> 17\n",
      "Predicted salary(in Millions) 22 ==> 16\n",
      "Predicted salary(in Millions) 23 ==> 16\n",
      "Predicted salary(in Millions) 24 ==> 16\n",
      "Predicted salary(in Millions) 25 ==> 16\n",
      "Predicted salary(in Millions) 26 ==> 16\n",
      "Predicted salary(in Millions) 27 ==> 16\n",
      "Predicted salary(in Millions) 28 ==> 16\n",
      "Predicted salary(in Millions) 29 ==> 16\n",
      "Predicted salary(in Millions) 30 ==> 15\n",
      "Predicted salary(in Millions) 31 ==> 15\n",
      "Predicted salary(in Millions) 32 ==> 15\n",
      "Predicted salary(in Millions) 33 ==> 15\n",
      "Predicted salary(in Millions) 34 ==> 15\n",
      "Predicted salary(in Millions) 35 ==> 15\n",
      "Predicted salary(in Millions) 36 ==> 15\n",
      "Predicted salary(in Millions) 37 ==> 15\n",
      "Predicted salary(in Millions) 38 ==> 14\n",
      "Predicted salary(in Millions) 39 ==> 14\n",
      "Predicted salary(in Millions) 40 ==> 14\n"
     ]
    }
   ],
   "source": [
    "i = 1\n",
    "while i <= 40:\n",
    "  print(\"Predicted salary(in Millions) %d ==>\" %(i) , int(simplelinearRegression.predict([[i]])))\n",
    "  i= i+1\n",
    "    "
   ]
  },
  {
   "cell_type": "code",
   "execution_count": 19,
   "metadata": {
    "ExecuteTime": {
     "end_time": "2020-07-24T16:41:44.425276Z",
     "start_time": "2020-07-24T16:41:44.417275Z"
    }
   },
   "outputs": [],
   "source": [
    "#Thus we can deduce that as age incresases Salary decreases"
   ]
  },
  {
   "cell_type": "code",
   "execution_count": null,
   "metadata": {},
   "outputs": [],
   "source": []
  }
 ],
 "metadata": {
  "kernelspec": {
   "display_name": "Python 3",
   "language": "python",
   "name": "python3"
  },
  "language_info": {
   "codemirror_mode": {
    "name": "ipython",
    "version": 3
   },
   "file_extension": ".py",
   "mimetype": "text/x-python",
   "name": "python",
   "nbconvert_exporter": "python",
   "pygments_lexer": "ipython3",
   "version": "3.7.7"
  }
 },
 "nbformat": 4,
 "nbformat_minor": 4
}
